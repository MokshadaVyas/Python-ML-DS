{
 "cells": [
  {
   "cell_type": "markdown",
   "id": "5a347e6e-754d-438a-9ec0-ae193423a1d7",
   "metadata": {},
   "source": [
    "# Lemmatization\n",
    "### lemmatization is the process of reducing a word to its base or dictionary form, known as the lemma. Unlike stemming, which may simply chop off word endings, lemmatization uses morphological analysis to ensure that the word is transformed into a valid base form that exists in the language."
   ]
  },
  {
   "cell_type": "code",
   "execution_count": 10,
   "id": "f054ebd1-9493-4316-83f7-201db8d7135d",
   "metadata": {},
   "outputs": [
    {
     "name": "stderr",
     "output_type": "stream",
     "text": [
      "[nltk_data] Downloading package wordnet to\n",
      "[nltk_data]     C:\\Users\\Lenovo\\AppData\\Roaming\\nltk_data...\n",
      "[nltk_data]   Package wordnet is already up-to-date!\n"
     ]
    },
    {
     "data": {
      "text/plain": [
       "True"
      ]
     },
     "execution_count": 10,
     "metadata": {},
     "output_type": "execute_result"
    }
   ],
   "source": [
    "import nltk\n",
    "nltk.download('wordnet')"
   ]
  },
  {
   "cell_type": "code",
   "execution_count": 13,
   "id": "66582b4c-b4ca-4ce9-b763-231a34506b71",
   "metadata": {},
   "outputs": [],
   "source": [
    "from nltk.stem import WordNetLemmatizer\n",
    "from nltk.corpus import wordnet"
   ]
  },
  {
   "cell_type": "code",
   "execution_count": 14,
   "id": "8a3fdaaf-6282-4883-8c70-e388e566deaf",
   "metadata": {},
   "outputs": [],
   "source": [
    "lemmatizer=WordNetLemmatizer()"
   ]
  },
  {
   "cell_type": "markdown",
   "id": "aa4d8a29-4499-432c-bf38-ad24d9d0ea25",
   "metadata": {},
   "source": [
    "    '''\n",
    "    noun==n\n",
    "    verb==v\n",
    "    adjective==a\n",
    "    adverb=r\n",
    "    '''"
   ]
  },
  {
   "cell_type": "code",
   "execution_count": 15,
   "id": "8c5c4307-fd30-474d-9908-39234bddd4f9",
   "metadata": {},
   "outputs": [],
   "source": [
    "words = [\"Eat\",\"Eaten\",\"Eating\",\"Drink\",\"Drunk\",\"Drinking\",\"Swimming\",\"Wrote\",\"Written\",\"Dancing\",\"Dance\",\"Sang\",\"Singing\"]"
   ]
  },
  {
   "cell_type": "code",
   "execution_count": 16,
   "id": "77017e97-3528-48a8-a67c-d353122983fe",
   "metadata": {},
   "outputs": [
    {
     "name": "stdout",
     "output_type": "stream",
     "text": [
      "Eat ---> Eat\n",
      "Eaten ---> Eaten\n",
      "Eating ---> Eating\n",
      "Drink ---> Drink\n",
      "Drunk ---> Drunk\n",
      "Drinking ---> Drinking\n",
      "Swimming ---> Swimming\n",
      "Wrote ---> Wrote\n",
      "Written ---> Written\n",
      "Dancing ---> Dancing\n",
      "Dance ---> Dance\n",
      "Sang ---> Sang\n",
      "Singing ---> Singing\n"
     ]
    }
   ],
   "source": [
    "for word in words:\n",
    "    lemmatized_word = lemmatizer.lemmatize(word, pos='v')\n",
    "    print(f\"{word} ---> {lemmatized_word}\")"
   ]
  },
  {
   "cell_type": "code",
   "execution_count": null,
   "id": "11ae5065-c39f-4aa2-856d-64cc84a162d6",
   "metadata": {},
   "outputs": [],
   "source": []
  },
  {
   "cell_type": "code",
   "execution_count": null,
   "id": "4fe03ff7-86df-4096-9c64-74306719bbfd",
   "metadata": {},
   "outputs": [],
   "source": []
  }
 ],
 "metadata": {
  "kernelspec": {
   "display_name": "Python 3 (ipykernel)",
   "language": "python",
   "name": "python3"
  },
  "language_info": {
   "codemirror_mode": {
    "name": "ipython",
    "version": 3
   },
   "file_extension": ".py",
   "mimetype": "text/x-python",
   "name": "python",
   "nbconvert_exporter": "python",
   "pygments_lexer": "ipython3",
   "version": "3.12.2"
  }
 },
 "nbformat": 4,
 "nbformat_minor": 5
}
