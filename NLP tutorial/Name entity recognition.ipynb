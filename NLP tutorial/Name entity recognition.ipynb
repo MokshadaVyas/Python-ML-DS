{
 "cells": [
  {
   "cell_type": "markdown",
   "id": "71fb1bed-4b9a-4f2f-aa3c-e1d1c491c6d8",
   "metadata": {},
   "source": [
    "# Named Entity Recognition\n",
    "### Named Entity Recognition (NER) is a key task in Natural Language Processing (NLP) that involves identifying and classifying named entities in a text into predefined categories such as:\n",
    "\n",
    "#### Person names (e.g., \"Albert Einstein\")\n",
    "#### Organizations (e.g., \"Google\", \"United Nations\")\n",
    "#### Locations (e.g., \"New York\", \"India\")\n",
    "#### Dates (e.g., \"January 1, 2024\")\n",
    "#### Monetary values (e.g., \"$100\", \"€50\")\n",
    "#### Other entities such as products, events, etc."
   ]
  },
  {
   "cell_type": "code",
   "execution_count": 1,
   "id": "8e059dd4-c77f-4b55-82b3-c210dac54e33",
   "metadata": {},
   "outputs": [],
   "source": [
    "sentences=\"The Eiffel Tower was built from 1887 to 1889 by Gustave Eiffel, whose company specialized in building metal frameworks and structures.\""
   ]
  },
  {
   "cell_type": "code",
   "execution_count": 2,
   "id": "ece9c2af-ccb2-44b4-a907-97cf7009e08a",
   "metadata": {},
   "outputs": [],
   "source": [
    "import nltk\n",
    "words=nltk.word_tokenize(sentences)"
   ]
  },
  {
   "cell_type": "code",
   "execution_count": 3,
   "id": "55ba7d18-b41e-4949-b78a-3319139f9a56",
   "metadata": {},
   "outputs": [],
   "source": [
    "pos_tag=nltk.pos_tag(words)"
   ]
  },
  {
   "cell_type": "code",
   "execution_count": 5,
   "id": "fb6257d2-80b1-4cd4-b76e-ed53f218794c",
   "metadata": {},
   "outputs": [
    {
     "data": {
      "text/plain": [
       "<bound method Tree.draw of Tree('S', [('The', 'DT'), Tree('ORGANIZATION', [('Eiffel', 'NNP'), ('Tower', 'NNP')]), ('was', 'VBD'), ('built', 'VBN'), ('from', 'IN'), ('1887', 'CD'), ('to', 'TO'), ('1889', 'CD'), ('by', 'IN'), Tree('PERSON', [('Gustave', 'NNP'), ('Eiffel', 'NNP')]), (',', ','), ('whose', 'WP$'), ('company', 'NN'), ('specialized', 'VBD'), ('in', 'IN'), ('building', 'NN'), ('metal', 'NN'), ('frameworks', 'NNS'), ('and', 'CC'), ('structures', 'NNS'), ('.', '.')])>"
      ]
     },
     "execution_count": 5,
     "metadata": {},
     "output_type": "execute_result"
    }
   ],
   "source": [
    "nltk.ne_chunk(pos_tag).draw"
   ]
  },
  {
   "cell_type": "code",
   "execution_count": null,
   "id": "5986ac42-c0b7-4aff-9e70-f557080c2219",
   "metadata": {},
   "outputs": [],
   "source": []
  }
 ],
 "metadata": {
  "kernelspec": {
   "display_name": "Python 3 (ipykernel)",
   "language": "python",
   "name": "python3"
  },
  "language_info": {
   "codemirror_mode": {
    "name": "ipython",
    "version": 3
   },
   "file_extension": ".py",
   "mimetype": "text/x-python",
   "name": "python",
   "nbconvert_exporter": "python",
   "pygments_lexer": "ipython3",
   "version": "3.12.2"
  }
 },
 "nbformat": 4,
 "nbformat_minor": 5
}
