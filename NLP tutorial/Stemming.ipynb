{
 "cells": [
  {
   "cell_type": "markdown",
   "id": "2db12839-64ed-4a22-9e1a-633158052c62",
   "metadata": {},
   "source": [
    "# Stemming\n",
    "#### In Natural Language Processing (NLP), stemming is the process of reducing words to their root or base form by removing suffixes or prefixes. The root form (also called the \"stem\") may not be a valid word, but it helps group similar words together"
   ]
  },
  {
   "cell_type": "code",
   "execution_count": 4,
   "id": "573fca67-6bac-4635-97e3-617fee236a76",
   "metadata": {},
   "outputs": [],
   "source": [
    "words = [\"Eat\",\"Eaten\",\"Eating\",\"Drink\",\"Drunk\",\"Drinking\",\"Swimming\",\"Wrote\",\"Written\",\"Dancing\",\"Dance\",\"Sang\",\"Singing\"]"
   ]
  },
  {
   "cell_type": "markdown",
   "id": "9b7eb976-a8f2-4286-aa52-2eb20961d211",
   "metadata": {},
   "source": [
    "# Porter Stemmer"
   ]
  },
  {
   "cell_type": "code",
   "execution_count": 5,
   "id": "f31afb01-ced4-46be-b6ab-53dd13f11779",
   "metadata": {},
   "outputs": [],
   "source": [
    "from nltk.stem import PorterStemmer"
   ]
  },
  {
   "cell_type": "code",
   "execution_count": 6,
   "id": "cb583076-2da7-4286-9d83-70ce46bbf9dd",
   "metadata": {},
   "outputs": [],
   "source": [
    "stemming=PorterStemmer()"
   ]
  },
  {
   "cell_type": "code",
   "execution_count": 8,
   "id": "fcfbe542-5830-4182-9886-b3ccba6b7776",
   "metadata": {},
   "outputs": [
    {
     "name": "stdout",
     "output_type": "stream",
     "text": [
      "Eat------>eat\n",
      "Eaten------>eaten\n",
      "Eating------>eat\n",
      "Drink------>drink\n",
      "Drunk------>drunk\n",
      "Drinking------>drink\n",
      "Swimming------>swim\n",
      "Wrote------>wrote\n",
      "Written------>written\n",
      "Dancing------>danc\n",
      "Dance------>danc\n",
      "Sang------>sang\n",
      "Singing------>sing\n"
     ]
    }
   ],
   "source": [
    "for word in words:\n",
    "    print(word + \"------>\" + stemming.stem(word))"
   ]
  },
  {
   "cell_type": "markdown",
   "id": "67b3dd35-0b2b-40ca-b886-7fddcbfe08a0",
   "metadata": {},
   "source": [
    "### There are some disadvantages of stemming , it won't convert all word into it's original."
   ]
  },
  {
   "cell_type": "markdown",
   "id": "a713584e-62e2-4e3d-bcc0-305da5a8e3aa",
   "metadata": {},
   "source": [
    "# Snowball \n",
    "#### In NLP, the Snowball Stemmer is an improved version of the Porter Stemmer, designed to handle stemming more efficiently and for multiple languages. "
   ]
  },
  {
   "cell_type": "code",
   "execution_count": 9,
   "id": "6f7b4df2-daaf-40b4-8251-c265a09e9f6a",
   "metadata": {},
   "outputs": [],
   "source": [
    "from nltk.stem import SnowballStemmer"
   ]
  },
  {
   "cell_type": "code",
   "execution_count": 10,
   "id": "232bf551-5195-4f76-9a52-8854c76ebece",
   "metadata": {},
   "outputs": [],
   "source": [
    "snowball_stemmer = SnowballStemmer('english')"
   ]
  },
  {
   "cell_type": "code",
   "execution_count": 11,
   "id": "416702c3-ee55-4549-9332-a0b82cd9f0cb",
   "metadata": {},
   "outputs": [
    {
     "name": "stdout",
     "output_type": "stream",
     "text": [
      "Eat----->eat\n",
      "Eaten----->eaten\n",
      "Eating----->eat\n",
      "Drink----->drink\n",
      "Drunk----->drunk\n",
      "Drinking----->drink\n",
      "Swimming----->swim\n",
      "Wrote----->wrote\n",
      "Written----->written\n",
      "Dancing----->danc\n",
      "Dance----->danc\n",
      "Sang----->sang\n",
      "Singing----->sing\n"
     ]
    }
   ],
   "source": [
    "for word in words:\n",
    "    print(word + \"----->\" + snowball_stemmer.stem(word))"
   ]
  },
  {
   "cell_type": "markdown",
   "id": "685e4951-ce31-4f67-939f-131823aabfca",
   "metadata": {},
   "source": [
    "### Diffenrence between PorterStemmer and SnowballStemmner"
   ]
  },
  {
   "cell_type": "code",
   "execution_count": 12,
   "id": "fd0f50c8-7651-41a5-8fad-2dd22207acaf",
   "metadata": {},
   "outputs": [
    {
     "data": {
      "text/plain": [
       "('fairli', 'sportingli')"
      ]
     },
     "execution_count": 12,
     "metadata": {},
     "output_type": "execute_result"
    }
   ],
   "source": [
    "stemming.stem('fairly'),stemming.stem('Sportingly')"
   ]
  },
  {
   "cell_type": "code",
   "execution_count": 13,
   "id": "29fafe6d-dd61-422a-a10b-4c2724f6b0dc",
   "metadata": {},
   "outputs": [
    {
     "data": {
      "text/plain": [
       "('fair', 'sport')"
      ]
     },
     "execution_count": 13,
     "metadata": {},
     "output_type": "execute_result"
    }
   ],
   "source": [
    "snowball_stemmer.stem('fairly'),snowball_stemmer.stem('Sportingly')"
   ]
  },
  {
   "cell_type": "markdown",
   "id": "7c4e7d63-fea6-452c-9184-a8d84cc3697d",
   "metadata": {},
   "source": [
    "# RegexStemmer\n",
    "#### In NLP, RegexStemmer is a type of stemming method that uses regular expressions (regex) to define specific rules for removing suffixes or prefixes from words. Unlike standard stemmers like Porter or Snowball, which follow a set of predefined rules, a RegexStemmer allows you to customize how words are reduced to their base form."
   ]
  },
  {
   "cell_type": "code",
   "execution_count": 14,
   "id": "67eb937f-92c6-42d5-8f0d-2cb11e935d31",
   "metadata": {},
   "outputs": [],
   "source": [
    "from nltk.stem import RegexpStemmer"
   ]
  },
  {
   "cell_type": "code",
   "execution_count": 15,
   "id": "c374ed0e-5ac5-4814-b41e-7a1985a67abd",
   "metadata": {},
   "outputs": [],
   "source": [
    "reg_stemmer=RegexpStemmer('ing$|s$|e$|able$', min=4)"
   ]
  },
  {
   "cell_type": "code",
   "execution_count": 16,
   "id": "849bd7db-f62e-4b55-8bd2-4796e5b82629",
   "metadata": {},
   "outputs": [
    {
     "data": {
      "text/plain": [
       "'eat'"
      ]
     },
     "execution_count": 16,
     "metadata": {},
     "output_type": "execute_result"
    }
   ],
   "source": [
    "reg_stemmer.stem('eating')"
   ]
  },
  {
   "cell_type": "code",
   "execution_count": 17,
   "id": "c1368e57-e172-4f94-b117-6d795b8a649b",
   "metadata": {},
   "outputs": [
    {
     "data": {
      "text/plain": [
       "'avail'"
      ]
     },
     "execution_count": 17,
     "metadata": {},
     "output_type": "execute_result"
    }
   ],
   "source": [
    "reg_stemmer.stem('available')"
   ]
  },
  {
   "cell_type": "code",
   "execution_count": null,
   "id": "90bf5782-0a46-424b-99b1-53677eb41d2f",
   "metadata": {},
   "outputs": [],
   "source": []
  }
 ],
 "metadata": {
  "kernelspec": {
   "display_name": "Python 3 (ipykernel)",
   "language": "python",
   "name": "python3"
  },
  "language_info": {
   "codemirror_mode": {
    "name": "ipython",
    "version": 3
   },
   "file_extension": ".py",
   "mimetype": "text/x-python",
   "name": "python",
   "nbconvert_exporter": "python",
   "pygments_lexer": "ipython3",
   "version": "3.12.2"
  }
 },
 "nbformat": 4,
 "nbformat_minor": 5
}
