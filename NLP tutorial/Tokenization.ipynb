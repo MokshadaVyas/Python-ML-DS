{
 "cells": [
  {
   "cell_type": "code",
   "execution_count": 2,
   "id": "63d0975d-2426-4cd4-b344-0e882e3c88df",
   "metadata": {},
   "outputs": [
    {
     "name": "stderr",
     "output_type": "stream",
     "text": [
      "[nltk_data] Downloading package punkt to\n",
      "[nltk_data]     C:\\Users\\Lenovo\\AppData\\Roaming\\nltk_data...\n",
      "[nltk_data]   Package punkt is already up-to-date!\n"
     ]
    },
    {
     "data": {
      "text/plain": [
       "True"
      ]
     },
     "execution_count": 2,
     "metadata": {},
     "output_type": "execute_result"
    }
   ],
   "source": [
    "import nltk\n",
    "nltk.download('punkt')"
   ]
  },
  {
   "cell_type": "code",
   "execution_count": 4,
   "id": "58d9b5ae-9772-4c97-8262-c4daf33a3baf",
   "metadata": {},
   "outputs": [],
   "source": [
    "corpus = \"\"\"\n",
    "Hello, I'm mokshada! \n",
    "Currently I am pursuing computer engineering from Atmiya University.\n",
    "This is NLTK tokenization tutorial.\n",
    "\"\"\""
   ]
  },
  {
   "cell_type": "code",
   "execution_count": 6,
   "id": "8a4516b9-800b-4b4d-92a9-d5a11042168e",
   "metadata": {},
   "outputs": [],
   "source": [
    "from nltk.tokenize import word_tokenize"
   ]
  },
  {
   "cell_type": "code",
   "execution_count": 7,
   "id": "636a90bf-fa20-413d-89f8-f4de60944552",
   "metadata": {},
   "outputs": [
    {
     "name": "stdout",
     "output_type": "stream",
     "text": [
      "['Hello', ',', 'I', \"'m\", 'mokshada', '!', 'Currently', 'I', 'am', 'pursuing', 'computer', 'engineering', 'from', 'Atmiya', 'University', '.', 'This', 'is', 'NLTK', 'tokenization', 'tutorial', '.']\n"
     ]
    }
   ],
   "source": [
    "word=word_tokenize(corpus)\n",
    "print(word)"
   ]
  },
  {
   "cell_type": "code",
   "execution_count": 8,
   "id": "21b657ca-c05e-4b8f-ab49-b10cd09f56ea",
   "metadata": {},
   "outputs": [],
   "source": [
    "from nltk.tokenize import sent_tokenize"
   ]
  },
  {
   "cell_type": "code",
   "execution_count": 9,
   "id": "f509551e-d7cb-4c34-9d4f-91df8a8fdfd7",
   "metadata": {},
   "outputs": [
    {
     "name": "stdout",
     "output_type": "stream",
     "text": [
      "[\"\\nHello, I'm mokshada!\", 'Currently I am pursuing computer engineering from Atmiya University.', 'This is NLTK tokenization tutorial.']\n"
     ]
    }
   ],
   "source": [
    "sentence=sent_tokenize(corpus)\n",
    "print(sentence)"
   ]
  },
  {
   "cell_type": "code",
   "execution_count": 10,
   "id": "6dc94fba-b5f2-4d46-9676-e77acea1a6a9",
   "metadata": {},
   "outputs": [],
   "source": [
    "from nltk.tokenize import wordpunct_tokenize"
   ]
  },
  {
   "cell_type": "code",
   "execution_count": 11,
   "id": "9d26ab41-fd71-48c1-a629-061aaf235807",
   "metadata": {},
   "outputs": [
    {
     "name": "stdout",
     "output_type": "stream",
     "text": [
      "['Hello', ',', 'I', \"'\", 'm', 'mokshada', '!', 'Currently', 'I', 'am', 'pursuing', 'computer', 'engineering', 'from', 'Atmiya', 'University', '.', 'This', 'is', 'NLTK', 'tokenization', 'tutorial', '.']\n"
     ]
    }
   ],
   "source": [
    "punkt=wordpunct_tokenize(corpus)\n",
    "print(punkt)"
   ]
  },
  {
   "cell_type": "code",
   "execution_count": 13,
   "id": "11e853b0-0d27-4119-95a9-8e51eed63a4c",
   "metadata": {},
   "outputs": [],
   "source": [
    "from nltk.tokenize import TreebankWordTokenizer"
   ]
  },
  {
   "cell_type": "code",
   "execution_count": 17,
   "id": "3d44ee39-5bbf-4fff-9d7c-b4e1e1b7609f",
   "metadata": {},
   "outputs": [
    {
     "data": {
      "text/plain": [
       "['Hello',\n",
       " ',',\n",
       " 'I',\n",
       " \"'m\",\n",
       " 'mokshada',\n",
       " '!',\n",
       " 'Currently',\n",
       " 'I',\n",
       " 'am',\n",
       " 'pursuing',\n",
       " 'computer',\n",
       " 'engineering',\n",
       " 'from',\n",
       " 'Atmiya',\n",
       " 'University.',\n",
       " 'This',\n",
       " 'is',\n",
       " 'NLTK',\n",
       " 'tokenization',\n",
       " 'tutorial',\n",
       " '.']"
      ]
     },
     "execution_count": 17,
     "metadata": {},
     "output_type": "execute_result"
    }
   ],
   "source": [
    "tokenizer=TreebankWordTokenizer()\n",
    "tokenizer.tokenize(corpus)"
   ]
  },
  {
   "cell_type": "code",
   "execution_count": null,
   "id": "03b9c354-e9dd-4327-9be2-8208b7cce688",
   "metadata": {},
   "outputs": [],
   "source": []
  }
 ],
 "metadata": {
  "kernelspec": {
   "display_name": "Python 3 (ipykernel)",
   "language": "python",
   "name": "python3"
  },
  "language_info": {
   "codemirror_mode": {
    "name": "ipython",
    "version": 3
   },
   "file_extension": ".py",
   "mimetype": "text/x-python",
   "name": "python",
   "nbconvert_exporter": "python",
   "pygments_lexer": "ipython3",
   "version": "3.12.2"
  }
 },
 "nbformat": 4,
 "nbformat_minor": 5
}
