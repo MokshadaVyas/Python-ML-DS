{
 "cells": [
  {
   "cell_type": "markdown",
   "id": "40959ed5-eed7-4e16-baca-d58268e74f49",
   "metadata": {},
   "source": [
    "#### In Machine Learning and Natural Language Processing (NLP), encoding techniques are used to convert textual data into a numerical format that models can understand"
   ]
  },
  {
   "cell_type": "markdown",
   "id": "90b7edb0-7311-4615-a274-06f91124c31d",
   "metadata": {},
   "source": [
    "# 1. One-Hot Encoding\n",
    "\n",
    "## Definition: Represents each word as a binary vector, where each unique word in the vocabulary is given a unique vector, with a single \"1\" indicating the presence of that word, and \"0\"s elsewhere.\n",
    "#### Use Case: Simple and useful for small vocabularies.\n",
    "#### Example:\n",
    "#### Vocabulary: [\"cat\", \"dog\", \"mouse\"]\n",
    "#### \"dog\" → [0, 1, 0]"
   ]
  },
  {
   "cell_type": "markdown",
   "id": "d89fcd9a-7356-438b-a14f-4872263ef139",
   "metadata": {},
   "source": [
    "# 2. Bag of Words (BoW)\n",
    "\n",
    "## Definition: Represents text as a \"bag\" of its words, with the frequency of each word in the document. It ignores grammar, word order, and relationships between words.\n",
    "#### Use Case: Common in text classification tasks.\n",
    "#### Example:\n",
    "#### Sentence: \"I love NLP. I love coding.\"\n",
    "#### Vocabulary: [\"I\", \"love\", \"NLP\", \"coding\"]\n",
    "#### Representation: [2, 2, 1, 1] "
   ]
  },
  {
   "cell_type": "markdown",
   "id": "7a0ad226-56ef-45ed-805e-6b2e5fba1ed4",
   "metadata": {},
   "source": [
    "# 3. TF-IDF (Term Frequency-Inverse Document Frequency)\n",
    "\n",
    "## Definition: A statistical measure that evaluates the importance of a word in a document relative to a collection of documents. It reduces the importance of common words while boosting rare but significant words.\n",
    "#### Use Case: Improves performance for tasks like information retrieval and text classification.\n",
    "#### Example:\n",
    "#### Term Frequency (TF): Frequency of a word in a document.\n",
    "#### Inverse Document Frequency (IDF): Reduces the weight of common words like \"the\" or \"is\" that appear in many documents."
   ]
  },
  {
   "cell_type": "code",
   "execution_count": null,
   "id": "90e296de-cc98-4456-a397-ef4207581df6",
   "metadata": {},
   "outputs": [],
   "source": []
  }
 ],
 "metadata": {
  "kernelspec": {
   "display_name": "Python 3 (ipykernel)",
   "language": "python",
   "name": "python3"
  },
  "language_info": {
   "codemirror_mode": {
    "name": "ipython",
    "version": 3
   },
   "file_extension": ".py",
   "mimetype": "text/x-python",
   "name": "python",
   "nbconvert_exporter": "python",
   "pygments_lexer": "ipython3",
   "version": "3.12.2"
  }
 },
 "nbformat": 4,
 "nbformat_minor": 5
}
