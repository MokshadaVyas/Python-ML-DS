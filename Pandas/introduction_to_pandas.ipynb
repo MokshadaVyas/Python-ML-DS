{
 "cells": [
  {
   "cell_type": "code",
   "execution_count": 4,
   "id": "aa143e18-983f-4767-95c9-edfaf3c14afe",
   "metadata": {},
   "outputs": [],
   "source": [
    "import pandas as pd"
   ]
  },
  {
   "cell_type": "code",
   "execution_count": 3,
   "id": "96963fb9-4208-455a-b004-940a544cacff",
   "metadata": {},
   "outputs": [],
   "source": [
    "# first datatype\n",
    "series=pd.Series([\"BMW\",\"Audi\",\"Jaguar\"])"
   ]
  },
  {
   "cell_type": "code",
   "execution_count": 4,
   "id": "27a7bc02-7bf5-467c-a794-4b09798a42a3",
   "metadata": {},
   "outputs": [
    {
     "data": {
      "text/plain": [
       "0       BMW\n",
       "1      Audi\n",
       "2    Jaguar\n",
       "dtype: object"
      ]
     },
     "execution_count": 4,
     "metadata": {},
     "output_type": "execute_result"
    }
   ],
   "source": [
    "series"
   ]
  },
  {
   "cell_type": "code",
   "execution_count": 6,
   "id": "da1f59ca-7a54-40d9-826f-9448af9e97c5",
   "metadata": {},
   "outputs": [],
   "source": [
    "colours=pd.Series([\"Red\",\"Blue\",\"Orange\"])"
   ]
  },
  {
   "cell_type": "code",
   "execution_count": 7,
   "id": "90d2cf99-7b2c-49cf-8ac5-b2f34de2379e",
   "metadata": {},
   "outputs": [
    {
     "data": {
      "text/plain": [
       "0       Red\n",
       "1      Blue\n",
       "2    Orange\n",
       "dtype: object"
      ]
     },
     "execution_count": 7,
     "metadata": {},
     "output_type": "execute_result"
    }
   ],
   "source": [
    "colours\n"
   ]
  },
  {
   "cell_type": "code",
   "execution_count": 8,
   "id": "776a2b98-aee7-4464-90da-189cc0467b4c",
   "metadata": {},
   "outputs": [],
   "source": [
    "#Second datatype\n",
    "dataframe=pd.DataFrame({\"Cars\":series,\"colour\":colours})"
   ]
  },
  {
   "cell_type": "code",
   "execution_count": 9,
   "id": "9689172f-7cc7-48d4-85a7-40edc811934e",
   "metadata": {},
   "outputs": [
    {
     "data": {
      "text/html": [
       "<div>\n",
       "<style scoped>\n",
       "    .dataframe tbody tr th:only-of-type {\n",
       "        vertical-align: middle;\n",
       "    }\n",
       "\n",
       "    .dataframe tbody tr th {\n",
       "        vertical-align: top;\n",
       "    }\n",
       "\n",
       "    .dataframe thead th {\n",
       "        text-align: right;\n",
       "    }\n",
       "</style>\n",
       "<table border=\"1\" class=\"dataframe\">\n",
       "  <thead>\n",
       "    <tr style=\"text-align: right;\">\n",
       "      <th></th>\n",
       "      <th>Cars</th>\n",
       "      <th>colour</th>\n",
       "    </tr>\n",
       "  </thead>\n",
       "  <tbody>\n",
       "    <tr>\n",
       "      <th>0</th>\n",
       "      <td>BMW</td>\n",
       "      <td>Red</td>\n",
       "    </tr>\n",
       "    <tr>\n",
       "      <th>1</th>\n",
       "      <td>Audi</td>\n",
       "      <td>Blue</td>\n",
       "    </tr>\n",
       "    <tr>\n",
       "      <th>2</th>\n",
       "      <td>Jaguar</td>\n",
       "      <td>Orange</td>\n",
       "    </tr>\n",
       "  </tbody>\n",
       "</table>\n",
       "</div>"
      ],
      "text/plain": [
       "     Cars  colour\n",
       "0     BMW     Red\n",
       "1    Audi    Blue\n",
       "2  Jaguar  Orange"
      ]
     },
     "execution_count": 9,
     "metadata": {},
     "output_type": "execute_result"
    }
   ],
   "source": [
    "dataframe"
   ]
  },
  {
   "cell_type": "code",
   "execution_count": 5,
   "id": "8db0ca8c-c478-42b2-b6e4-1f0a6116ed12",
   "metadata": {},
   "outputs": [],
   "source": [
    "patient_record=pd.read_csv(\"patient_record - Sheet1.csv\")"
   ]
  },
  {
   "cell_type": "code",
   "execution_count": 6,
   "id": "c74cd1c0-0fb2-4c89-ba77-e01a9614f34e",
   "metadata": {},
   "outputs": [
    {
     "data": {
      "text/html": [
       "<div>\n",
       "<style scoped>\n",
       "    .dataframe tbody tr th:only-of-type {\n",
       "        vertical-align: middle;\n",
       "    }\n",
       "\n",
       "    .dataframe tbody tr th {\n",
       "        vertical-align: top;\n",
       "    }\n",
       "\n",
       "    .dataframe thead th {\n",
       "        text-align: right;\n",
       "    }\n",
       "</style>\n",
       "<table border=\"1\" class=\"dataframe\">\n",
       "  <thead>\n",
       "    <tr style=\"text-align: right;\">\n",
       "      <th></th>\n",
       "      <th>Patient ID</th>\n",
       "      <th>First Name</th>\n",
       "      <th>Last Name</th>\n",
       "      <th>Date of Birth</th>\n",
       "      <th>Gender</th>\n",
       "      <th>Cont_Num</th>\n",
       "      <th>Email Address</th>\n",
       "      <th>Address</th>\n",
       "      <th>Emg_num</th>\n",
       "      <th>Emg_Num</th>\n",
       "      <th>Prim_Phy</th>\n",
       "      <th>Date_Adm</th>\n",
       "      <th>Rea_add</th>\n",
       "    </tr>\n",
       "  </thead>\n",
       "  <tbody>\n",
       "    <tr>\n",
       "      <th>0</th>\n",
       "      <td>1</td>\n",
       "      <td>John</td>\n",
       "      <td>Doe</td>\n",
       "      <td>1990-05-15</td>\n",
       "      <td>Male</td>\n",
       "      <td>123-456-7890</td>\n",
       "      <td>john.doe@example.com</td>\n",
       "      <td>123 Maple St, Springfield</td>\n",
       "      <td>Jane Doe</td>\n",
       "      <td>987-654-3210</td>\n",
       "      <td>Dr. Smith</td>\n",
       "      <td>2024-07-01</td>\n",
       "      <td>Routine Checkup</td>\n",
       "    </tr>\n",
       "    <tr>\n",
       "      <th>1</th>\n",
       "      <td>2</td>\n",
       "      <td>Mary</td>\n",
       "      <td>Johnson</td>\n",
       "      <td>1985-11-23</td>\n",
       "      <td>Female</td>\n",
       "      <td>234-567-8901</td>\n",
       "      <td>mary.j@example.com</td>\n",
       "      <td>456 Oak St, Springfield</td>\n",
       "      <td>Tom Johnson</td>\n",
       "      <td>876-543-2109</td>\n",
       "      <td>Dr. Brown</td>\n",
       "      <td>2024-07-03</td>\n",
       "      <td>Flu Symptoms</td>\n",
       "    </tr>\n",
       "    <tr>\n",
       "      <th>2</th>\n",
       "      <td>3</td>\n",
       "      <td>James</td>\n",
       "      <td>Williams</td>\n",
       "      <td>1978-02-10</td>\n",
       "      <td>Male</td>\n",
       "      <td>345-678-9012</td>\n",
       "      <td>james.w@example.com</td>\n",
       "      <td>789 Pine St, Springfield</td>\n",
       "      <td>Lisa Williams</td>\n",
       "      <td>765-432-1098</td>\n",
       "      <td>Dr. Taylor</td>\n",
       "      <td>2024-07-05</td>\n",
       "      <td>Back Pain</td>\n",
       "    </tr>\n",
       "    <tr>\n",
       "      <th>3</th>\n",
       "      <td>4</td>\n",
       "      <td>Patricia</td>\n",
       "      <td>Brown</td>\n",
       "      <td>30-8-1995</td>\n",
       "      <td>Female</td>\n",
       "      <td>456-789-0123</td>\n",
       "      <td>patricia.b@example.com</td>\n",
       "      <td>101 Birch St, Springfield</td>\n",
       "      <td>Mark Brown</td>\n",
       "      <td>654-321-0987</td>\n",
       "      <td>Dr. Wilson</td>\n",
       "      <td>2024-07-07</td>\n",
       "      <td>Annual Physical</td>\n",
       "    </tr>\n",
       "    <tr>\n",
       "      <th>4</th>\n",
       "      <td>5</td>\n",
       "      <td>Robert</td>\n",
       "      <td>Jones</td>\n",
       "      <td>12-12-1982</td>\n",
       "      <td>Male</td>\n",
       "      <td>567-890-1234</td>\n",
       "      <td>robert.j@example.com</td>\n",
       "      <td>202 Cedar St, Springfield</td>\n",
       "      <td>Nancy Jones</td>\n",
       "      <td>543-210-9876</td>\n",
       "      <td>Dr. Davis</td>\n",
       "      <td>2024-07-09</td>\n",
       "      <td>Allergic Reaction</td>\n",
       "    </tr>\n",
       "    <tr>\n",
       "      <th>5</th>\n",
       "      <td>6</td>\n",
       "      <td>Linda</td>\n",
       "      <td>Miller</td>\n",
       "      <td>5-4-1975</td>\n",
       "      <td>Female</td>\n",
       "      <td>678-901-2345</td>\n",
       "      <td>linda.m@example.com</td>\n",
       "      <td>303 Elm St, Springfield</td>\n",
       "      <td>John Miller</td>\n",
       "      <td>432-109-8765</td>\n",
       "      <td>Dr. Martinez</td>\n",
       "      <td>2024-07-11</td>\n",
       "      <td>Chest Pain</td>\n",
       "    </tr>\n",
       "    <tr>\n",
       "      <th>6</th>\n",
       "      <td>7</td>\n",
       "      <td>Michael</td>\n",
       "      <td>Davis</td>\n",
       "      <td>1988-09-17</td>\n",
       "      <td>Male</td>\n",
       "      <td>789-012-3456</td>\n",
       "      <td>michael.d@example.com</td>\n",
       "      <td>404 Fir St, Springfield</td>\n",
       "      <td>Laura Davis</td>\n",
       "      <td>321-098-7654</td>\n",
       "      <td>Dr. Garcia</td>\n",
       "      <td>2024-07-13</td>\n",
       "      <td>High Blood Pressure</td>\n",
       "    </tr>\n",
       "    <tr>\n",
       "      <th>7</th>\n",
       "      <td>8</td>\n",
       "      <td>Barbara</td>\n",
       "      <td>Garcia</td>\n",
       "      <td>1993-03-29</td>\n",
       "      <td>Female</td>\n",
       "      <td>890-123-4567</td>\n",
       "      <td>barbara.g@example.com</td>\n",
       "      <td>505 Spruce St, Springfield</td>\n",
       "      <td>Michael Garcia</td>\n",
       "      <td>210-987-6543</td>\n",
       "      <td>Dr. Hernandez</td>\n",
       "      <td>2024-07-15</td>\n",
       "      <td>Migraine</td>\n",
       "    </tr>\n",
       "    <tr>\n",
       "      <th>8</th>\n",
       "      <td>9</td>\n",
       "      <td>William</td>\n",
       "      <td>Rodriguez</td>\n",
       "      <td>1970-06-25</td>\n",
       "      <td>Male</td>\n",
       "      <td>901-234-5678</td>\n",
       "      <td>william.r@example.com</td>\n",
       "      <td>606 Walnut St, Springfield</td>\n",
       "      <td>Lisa Rodriguez</td>\n",
       "      <td>109-876-5432</td>\n",
       "      <td>Dr. Lee</td>\n",
       "      <td>2024-07-17</td>\n",
       "      <td>Diabetes Management</td>\n",
       "    </tr>\n",
       "    <tr>\n",
       "      <th>9</th>\n",
       "      <td>10</td>\n",
       "      <td>Elizabeth</td>\n",
       "      <td>Martinez</td>\n",
       "      <td>1983-01-14</td>\n",
       "      <td>Female</td>\n",
       "      <td>012-345-6789</td>\n",
       "      <td>elizabeth.m@example.com</td>\n",
       "      <td>707 Hickory St, Springfield</td>\n",
       "      <td>John Martinez</td>\n",
       "      <td>098-765-4321</td>\n",
       "      <td>Dr. Clark</td>\n",
       "      <td>2024-07-19</td>\n",
       "      <td>Asthma Checkup</td>\n",
       "    </tr>\n",
       "  </tbody>\n",
       "</table>\n",
       "</div>"
      ],
      "text/plain": [
       "   Patient ID First Name  Last Name Date of Birth  Gender      Cont_Num  \\\n",
       "0           1       John        Doe    1990-05-15    Male  123-456-7890   \n",
       "1           2       Mary    Johnson    1985-11-23  Female  234-567-8901   \n",
       "2           3      James   Williams    1978-02-10    Male  345-678-9012   \n",
       "3           4   Patricia      Brown     30-8-1995  Female  456-789-0123   \n",
       "4           5     Robert      Jones    12-12-1982    Male  567-890-1234   \n",
       "5           6      Linda     Miller      5-4-1975  Female  678-901-2345   \n",
       "6           7    Michael      Davis    1988-09-17    Male  789-012-3456   \n",
       "7           8    Barbara     Garcia    1993-03-29  Female  890-123-4567   \n",
       "8           9    William  Rodriguez    1970-06-25    Male  901-234-5678   \n",
       "9          10  Elizabeth   Martinez    1983-01-14  Female  012-345-6789   \n",
       "\n",
       "             Email Address                      Address         Emg_num  \\\n",
       "0     john.doe@example.com    123 Maple St, Springfield        Jane Doe   \n",
       "1       mary.j@example.com      456 Oak St, Springfield     Tom Johnson   \n",
       "2      james.w@example.com     789 Pine St, Springfield   Lisa Williams   \n",
       "3   patricia.b@example.com    101 Birch St, Springfield      Mark Brown   \n",
       "4     robert.j@example.com    202 Cedar St, Springfield     Nancy Jones   \n",
       "5      linda.m@example.com      303 Elm St, Springfield     John Miller   \n",
       "6    michael.d@example.com      404 Fir St, Springfield     Laura Davis   \n",
       "7    barbara.g@example.com   505 Spruce St, Springfield  Michael Garcia   \n",
       "8    william.r@example.com   606 Walnut St, Springfield  Lisa Rodriguez   \n",
       "9  elizabeth.m@example.com  707 Hickory St, Springfield   John Martinez   \n",
       "\n",
       "        Emg_Num       Prim_Phy    Date_Adm              Rea_add  \n",
       "0  987-654-3210      Dr. Smith  2024-07-01      Routine Checkup  \n",
       "1  876-543-2109      Dr. Brown  2024-07-03         Flu Symptoms  \n",
       "2  765-432-1098     Dr. Taylor  2024-07-05            Back Pain  \n",
       "3  654-321-0987     Dr. Wilson  2024-07-07      Annual Physical  \n",
       "4  543-210-9876      Dr. Davis  2024-07-09    Allergic Reaction  \n",
       "5  432-109-8765   Dr. Martinez  2024-07-11           Chest Pain  \n",
       "6  321-098-7654     Dr. Garcia  2024-07-13  High Blood Pressure  \n",
       "7  210-987-6543  Dr. Hernandez  2024-07-15             Migraine  \n",
       "8  109-876-5432        Dr. Lee  2024-07-17  Diabetes Management  \n",
       "9  098-765-4321      Dr. Clark  2024-07-19       Asthma Checkup  "
      ]
     },
     "execution_count": 6,
     "metadata": {},
     "output_type": "execute_result"
    }
   ],
   "source": [
    "patient_record"
   ]
  },
  {
   "cell_type": "code",
   "execution_count": 7,
   "id": "2a8aefad-a1e7-4a18-adfc-39a0271189aa",
   "metadata": {},
   "outputs": [
    {
     "data": {
      "text/plain": [
       "Patient ID        int64\n",
       "First Name       object\n",
       "Last Name        object\n",
       "Date of Birth    object\n",
       "Gender           object\n",
       "Cont_Num         object\n",
       "Email Address    object\n",
       "Address          object\n",
       "Emg_num          object\n",
       "Emg_Num          object\n",
       "Prim_Phy         object\n",
       "Date_Adm         object\n",
       "Rea_add          object\n",
       "dtype: object"
      ]
     },
     "execution_count": 7,
     "metadata": {},
     "output_type": "execute_result"
    }
   ],
   "source": [
    "#Attributes\n",
    "patient_record.dtypes"
   ]
  },
  {
   "cell_type": "code",
   "execution_count": 8,
   "id": "80d0d775-c500-4db6-9547-d10eab0bf11f",
   "metadata": {},
   "outputs": [
    {
     "data": {
      "text/plain": [
       "Index(['Patient ID', 'First Name', 'Last Name', 'Date of Birth', 'Gender',\n",
       "       'Cont_Num', 'Email Address', 'Address', 'Emg_num', 'Emg_Num',\n",
       "       'Prim_Phy', 'Date_Adm', 'Rea_add'],\n",
       "      dtype='object')"
      ]
     },
     "execution_count": 8,
     "metadata": {},
     "output_type": "execute_result"
    }
   ],
   "source": [
    "patient_record.columns"
   ]
  },
  {
   "cell_type": "code",
   "execution_count": 9,
   "id": "c4e16502-3537-4831-bd20-a5e15cef4b51",
   "metadata": {},
   "outputs": [
    {
     "data": {
      "text/plain": [
       "RangeIndex(start=0, stop=10, step=1)"
      ]
     },
     "execution_count": 9,
     "metadata": {},
     "output_type": "execute_result"
    }
   ],
   "source": [
    "patient_record.index"
   ]
  },
  {
   "cell_type": "code",
   "execution_count": 10,
   "id": "2c95f368-3496-4356-b474-6b059d3f7707",
   "metadata": {},
   "outputs": [
    {
     "data": {
      "text/html": [
       "<div>\n",
       "<style scoped>\n",
       "    .dataframe tbody tr th:only-of-type {\n",
       "        vertical-align: middle;\n",
       "    }\n",
       "\n",
       "    .dataframe tbody tr th {\n",
       "        vertical-align: top;\n",
       "    }\n",
       "\n",
       "    .dataframe thead th {\n",
       "        text-align: right;\n",
       "    }\n",
       "</style>\n",
       "<table border=\"1\" class=\"dataframe\">\n",
       "  <thead>\n",
       "    <tr style=\"text-align: right;\">\n",
       "      <th></th>\n",
       "      <th>Patient ID</th>\n",
       "    </tr>\n",
       "  </thead>\n",
       "  <tbody>\n",
       "    <tr>\n",
       "      <th>count</th>\n",
       "      <td>10.00000</td>\n",
       "    </tr>\n",
       "    <tr>\n",
       "      <th>mean</th>\n",
       "      <td>5.50000</td>\n",
       "    </tr>\n",
       "    <tr>\n",
       "      <th>std</th>\n",
       "      <td>3.02765</td>\n",
       "    </tr>\n",
       "    <tr>\n",
       "      <th>min</th>\n",
       "      <td>1.00000</td>\n",
       "    </tr>\n",
       "    <tr>\n",
       "      <th>25%</th>\n",
       "      <td>3.25000</td>\n",
       "    </tr>\n",
       "    <tr>\n",
       "      <th>50%</th>\n",
       "      <td>5.50000</td>\n",
       "    </tr>\n",
       "    <tr>\n",
       "      <th>75%</th>\n",
       "      <td>7.75000</td>\n",
       "    </tr>\n",
       "    <tr>\n",
       "      <th>max</th>\n",
       "      <td>10.00000</td>\n",
       "    </tr>\n",
       "  </tbody>\n",
       "</table>\n",
       "</div>"
      ],
      "text/plain": [
       "       Patient ID\n",
       "count    10.00000\n",
       "mean      5.50000\n",
       "std       3.02765\n",
       "min       1.00000\n",
       "25%       3.25000\n",
       "50%       5.50000\n",
       "75%       7.75000\n",
       "max      10.00000"
      ]
     },
     "execution_count": 10,
     "metadata": {},
     "output_type": "execute_result"
    }
   ],
   "source": [
    "# Function call\n",
    "patient_record.describe()"
   ]
  },
  {
   "cell_type": "code",
   "execution_count": 11,
   "id": "9d19d7c8-8774-480c-a1bf-b245d71999b7",
   "metadata": {},
   "outputs": [
    {
     "data": {
      "text/plain": [
       "Patient ID                                                      55\n",
       "First Name       JohnMaryJamesPatriciaRobertLindaMichaelBarbara...\n",
       "Last Name        DoeJohnsonWilliamsBrownJonesMillerDavisGarciaR...\n",
       "Date of Birth    1990-05-151985-11-231978-02-1030-8-199512-12-1...\n",
       "Gender           MaleFemaleMaleFemaleMaleFemaleMaleFemaleMaleFe...\n",
       "Cont_Num         123-456-7890234-567-8901345-678-9012456-789-01...\n",
       "Email Address    john.doe@example.commary.j@example.comjames.w@...\n",
       "Address          123 Maple St, Springfield456 Oak St, Springfie...\n",
       "Emg_num          Jane DoeTom JohnsonLisa WilliamsMark BrownNanc...\n",
       "Emg_Num          987-654-3210876-543-2109765-432-1098654-321-09...\n",
       "Prim_Phy         Dr. SmithDr. BrownDr. TaylorDr. WilsonDr. Davi...\n",
       "Date_Adm         2024-07-012024-07-032024-07-052024-07-072024-0...\n",
       "Rea_add          Routine CheckupFlu SymptomsBack PainAnnual Phy...\n",
       "dtype: object"
      ]
     },
     "execution_count": 11,
     "metadata": {},
     "output_type": "execute_result"
    }
   ],
   "source": [
    "patient_record.sum()"
   ]
  },
  {
   "cell_type": "code",
   "execution_count": 12,
   "id": "b962a2d9-a900-4a1d-93d0-18b459f156bf",
   "metadata": {},
   "outputs": [
    {
     "data": {
      "text/plain": [
       "10"
      ]
     },
     "execution_count": 12,
     "metadata": {},
     "output_type": "execute_result"
    }
   ],
   "source": [
    "len(patient_record)"
   ]
  }
 ],
 "metadata": {
  "kernelspec": {
   "display_name": "Python 3 (ipykernel)",
   "language": "python",
   "name": "python3"
  },
  "language_info": {
   "codemirror_mode": {
    "name": "ipython",
    "version": 3
   },
   "file_extension": ".py",
   "mimetype": "text/x-python",
   "name": "python",
   "nbconvert_exporter": "python",
   "pygments_lexer": "ipython3",
   "version": "3.12.4"
  }
 },
 "nbformat": 4,
 "nbformat_minor": 5
}
